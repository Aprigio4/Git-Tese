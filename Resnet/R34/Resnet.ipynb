{
 "cells": [
  {
   "cell_type": "code",
   "execution_count": 1,
   "metadata": {},
   "outputs": [],
   "source": [
    "import sys\n",
    "sys.path.append('../../resnet3d')\n",
    "sys.path.append('../../Data')"
   ]
  },
  {
   "cell_type": "code",
   "execution_count": 2,
   "metadata": {},
   "outputs": [],
   "source": [
    "from resnet3d import Resnet3DBuilder\n",
    "from LIB import merge_data, split_flip, augmentate\n",
    "import tensorflow as tf\n",
    "from tensorflow import keras \n",
    "from keras.models import Model\n",
    "from keras.layers import (\n",
    "    Input,\n",
    "    Activation,\n",
    "    Dense,\n",
    "    Concatenate,\n",
    "    Flatten\n",
    ")\n",
    "from keras.regularizers import l2\n",
    "\n",
    "import numpy as np\n",
    "from sklearn.metrics import ConfusionMatrixDisplay\n",
    "from sklearn.metrics import accuracy_score, precision_score, recall_score, confusion_matrix, log_loss\n",
    "from matplotlib import pyplot as plt"
   ]
  },
  {
   "cell_type": "code",
   "execution_count": 3,
   "metadata": {},
   "outputs": [],
   "source": [
    "def plot_metric(history, metric):\n",
    "    plt.clf()\n",
    "    train_metrics = history.history[metric]\n",
    "    val_metrics = history.history['val_'+metric]\n",
    "    epochs = range(1, len(train_metrics) + 1)\n",
    "    plt.plot(epochs, train_metrics)\n",
    "    plt.plot(epochs, val_metrics)\n",
    "    plt.title('Training and validation '+ metric)\n",
    "    plt.xlabel(\"Epochs\")\n",
    "    plt.ylabel(metric)\n",
    "    plt.legend([\"train_\"+metric, 'val_'+metric])\n",
    "    plt.savefig('Training_Validation_'+ metric+'.pdf')\n",
    "    plt.show()\n",
    "    \n",
    "def performance(model, X, y_true):  \n",
    "    \n",
    "    y_pred = (model.predict(X) >= 0.5)    \n",
    "    print(\"Accuracy: \"+str(accuracy_score(y_true,y_pred)))\n",
    "    print(\"Precision: \"+str(precision_score(y_true,y_pred,average='weighted')))\n",
    "    print(\"Recall: \"+str(recall_score(y_true,y_pred)))\n",
    "\n",
    "    cm = confusion_matrix(y_true,y_pred)\n",
    "    disp = ConfusionMatrixDisplay(confusion_matrix=cm, display_labels = [\"CN\",\"AD\"])\n",
    "    disp.plot()\n",
    "    plt.show()"
   ]
  },
  {
   "cell_type": "code",
   "execution_count": 4,
   "metadata": {},
   "outputs": [],
   "source": [
    "X_train, Y_train, X_test,Y_test = merge_data('AD', 'CN', '../../Data/')"
   ]
  },
  {
   "cell_type": "code",
   "execution_count": 5,
   "metadata": {},
   "outputs": [],
   "source": [
    "X_train, Y_train = augmentate(X_train, Y_train)"
   ]
  },
  {
   "cell_type": "code",
   "execution_count": 6,
   "metadata": {},
   "outputs": [],
   "source": [
    "def training(model, X_train, Y_train, X_val, Y_val, epochs = 1, batch_size=16, show_summary = False):\n",
    "    \n",
    "    early_stopping = tf.keras.callbacks.EarlyStopping(monitor=\"val_loss\", patience=8, restore_best_weights=True)\n",
    "    model.compile(loss=\"binary_crossentropy\", optimizer=\"sgd\", metrics=['accuracy'])\n",
    "    if show_summary:\n",
    "        model.summary()\n",
    "    \n",
    "    history = model.fit(X_train, Y_train, validation_data = (X_val, Y_val), epochs=epochs, batch_size=batch_size, callbacks=[early_stopping])\n",
    "    \n",
    "    plot_metric(history, 'accuracy')\n",
    "    plot_metric(history, 'loss')"
   ]
  },
  {
   "cell_type": "code",
   "execution_count": 7,
   "metadata": {},
   "outputs": [
    {
     "name": "stdout",
     "output_type": "stream",
     "text": [
      "channels last\n"
     ]
    }
   ],
   "source": [
    "model = Resnet3DBuilder.build_resnet_34((60,128,128,1),1)"
   ]
  },
  {
   "cell_type": "code",
   "execution_count": null,
   "metadata": {},
   "outputs": [
    {
     "name": "stdout",
     "output_type": "stream",
     "text": [
      "Epoch 1/100\n"
     ]
    }
   ],
   "source": [
    "training(model, X_train, Y_train, X_test, Y_test, epochs = 100)"
   ]
  },
  {
   "cell_type": "code",
   "execution_count": null,
   "metadata": {},
   "outputs": [],
   "source": [
    "model.save(\"Resnet34\")"
   ]
  },
  {
   "cell_type": "code",
   "execution_count": null,
   "metadata": {},
   "outputs": [],
   "source": []
  }
 ],
 "metadata": {
  "kernelspec": {
   "display_name": "Python 3",
   "language": "python",
   "name": "python3"
  },
  "language_info": {
   "codemirror_mode": {
    "name": "ipython",
    "version": 3
   },
   "file_extension": ".py",
   "mimetype": "text/x-python",
   "name": "python",
   "nbconvert_exporter": "python",
   "pygments_lexer": "ipython3",
   "version": "3.6.9"
  }
 },
 "nbformat": 4,
 "nbformat_minor": 4
}
